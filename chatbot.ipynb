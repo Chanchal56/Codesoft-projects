{
  "cells": [
    {
      "cell_type": "markdown",
      "metadata": {
        "id": "view-in-github",
        "colab_type": "text"
      },
      "source": [
        "<a href=\"https://colab.research.google.com/github/Chanchal56/Codesoft-projects/blob/main/chatbot.ipynb\" target=\"_parent\"><img src=\"https://colab.research.google.com/assets/colab-badge.svg\" alt=\"Open In Colab\"/></a>"
      ]
    },
    {
      "cell_type": "code",
      "execution_count": null,
      "metadata": {
        "id": "ApYeN7haM3JM"
      },
      "outputs": [],
      "source": [
        "data = {\n",
        "   \"hi\": \"Hello there, I am pleased to announce that I am an AI Chatbot here to help you?\",\n",
        "   \"hello\": \"Hi! Do you need my assistance?\",\n",
        "   \"what is your name?\": \"As for me, I do not have a name, as I am a chatbot, but you can address me as ChatBot.\",\n",
        "   \"where are you from?\": \"Originally, I came from the digital world and now, I am always available to have a chat with you!\",\n",
        "   \"how are you?\": \"Well… I’m just AI and a chatbot but I’m here to help you.\",\n",
        "   \"do you have any hobbies or interests?\": \"It may seem like I am always occupied with helping the users; thus, my kind of interest is interacting with people such as yourself!\",\n",
        "   \"what did you eat today?\": \"I am unable to eat food but I can provide you with tasty food recipes and whatever information pertaining to food that you may require.\",\n",
        "   \"what's your favorite color?\": \"As for me, I am just a chatbot, I do not have preferences toward any color. \",\n",
        "   \"do you enjoy listening to music?\": \"Not being able to listen to music, but willing to come here and just talk about it!\",\n",
        "   \"do you ever heard about the old songs?\" : \"Yes, i am familiar with old songs. please let me know how can i assist you?\",\n",
        "   \"bye\": \"Later guys, good bye have a great day..\",\n",
        "}\n",
        "\n",
        "def get_response(user_input):\n",
        "    for pattern, response in data.items():\n",
        "        if pattern in user_input.lower():\n",
        "            return response\n",
        "    return \"I'm sorry, I didn't understand that. Can you please rephrase your sentence?\"\n",
        "\n",
        "print(\"Chatbot: Hi! I'm a simple chatbot, I'm here to assist you!\")\n",
        "while True:\n",
        "    user_input = input(\"Me: \").strip()\n",
        "    if user_input.lower() == 'bye':\n",
        "        print(\"Chatbot: Goodbye! Have a great day!\")\n",
        "        break\n",
        "    response = get_response(user_input)\n",
        "    print(\"Chatbot:\", response)"
      ]
    }
  ],
  "metadata": {
    "colab": {
      "provenance": [],
      "authorship_tag": "ABX9TyM9yuYCgg/kCfRbcD3yS39v",
      "include_colab_link": true
    },
    "kernelspec": {
      "display_name": "Python 3",
      "name": "python3"
    },
    "language_info": {
      "name": "python"
    }
  },
  "nbformat": 4,
  "nbformat_minor": 0
}