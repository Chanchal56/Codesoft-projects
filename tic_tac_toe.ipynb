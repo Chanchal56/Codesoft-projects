{
  "cells": [
    {
      "cell_type": "markdown",
      "metadata": {
        "id": "view-in-github",
        "colab_type": "text"
      },
      "source": [
        "<a href=\"https://colab.research.google.com/github/Chanchal56/Codesoft-projects/blob/main/tic_tac_toe.ipynb\" target=\"_parent\"><img src=\"https://colab.research.google.com/assets/colab-badge.svg\" alt=\"Open In Colab\"/></a>"
      ]
    },
    {
      "cell_type": "code",
      "execution_count": null,
      "metadata": {
        "colab": {
          "base_uri": "https://localhost:8080/"
        },
        "id": "10YyomdA29ae",
        "outputId": "d64f7733-0991-4d89-eeaf-3eef0fc88021"
      },
      "outputs": [
        {
          "output_type": "stream",
          "name": "stdout",
          "text": [
            "START THE TIC TAC GAME \n",
            "-------------\n",
            "| 0 | 0 | 0 |\n",
            "-------------\n",
            "| 0 | 0 | 0 |\n",
            "-------------\n",
            "| 0 | 0 | 0 |\n",
            "-------------\n"
          ]
        }
      ],
      "source": [
        "\n",
        "print(\"START THE TIC TAC GAME \")\n",
        "def print_board(board):\n",
        "    print(\"-------------\")\n",
        "    print(\"|\", board[0], \"|\", board[1], \"|\", board[2], \"|\")\n",
        "    print(\"-------------\")\n",
        "    print(\"|\", board[3], \"|\", board[4], \"|\", board[5], \"|\")\n",
        "    print(\"-------------\")\n",
        "    print(\"|\", board[6], \"|\", board[7], \"|\", board[8], \"|\")\n",
        "    print(\"-------------\")\n",
        "\n",
        "def is_board_full(board):\n",
        "    return all(cell != 0 for cell in board)\n",
        "\n",
        "def is_winning_move(board, mark):\n",
        "    win_conditions = [\n",
        "        [0, 1, 2], [3, 4, 5], [6, 7, 8],\n",
        "        [0, 3, 6], [1, 4, 7], [2, 5, 8],\n",
        "        [0, 4, 8], [2, 4, 6]\n",
        "    ]\n",
        "    for condition in win_conditions:\n",
        "        if all(board[i] == mark for i in condition):\n",
        "            return True\n",
        "    return False\n",
        "\n",
        "def is_game_over(board, mark):\n",
        "  return is_board_full(board) or is_winning_move(board, mark)\n",
        "\n",
        "def make_move(board, mark, player):\n",
        "    while True:\n",
        "        position = int(input(f\"{player}, enter your move (1-9): \")) - 1\n",
        "        if board[position] == 0:\n",
        "            board[position] = mark\n",
        "            break\n",
        "        print(\"Invalid move. Try again.\")\n",
        "\n",
        "def play_game():\n",
        "    board = [0] * 9\n",
        "    current_player = \"X\"\n",
        "    while True:\n",
        "        print_board(board)\n",
        "        make_move(board, current_player, current_player.upper())\n",
        "        if is_game_over(board, current_player):\n",
        "            print_board(board)\n",
        "            if current_player == \"X\":\n",
        "                print(\"Player A wins!\")\n",
        "            else:\n",
        "                print(\"Player B wins!\")\n",
        "            break\n",
        "        current_player = \"0\" if current_player == \"X\" else \"X\"\n",
        "\n",
        "play_game()\n",
        "\n",
        "\n"
      ]
    }
  ],
  "metadata": {
    "colab": {
      "provenance": [],
      "authorship_tag": "ABX9TyOegcFGEOrovdiczKcTogZy",
      "include_colab_link": true
    },
    "kernelspec": {
      "display_name": "Python 3",
      "name": "python3"
    },
    "language_info": {
      "name": "python"
    }
  },
  "nbformat": 4,
  "nbformat_minor": 0
}